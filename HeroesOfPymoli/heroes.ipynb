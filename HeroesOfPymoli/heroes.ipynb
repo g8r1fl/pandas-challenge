{
 "cells": [
  {
   "cell_type": "code",
   "execution_count": 1,
   "metadata": {},
   "outputs": [
    {
     "data": {
      "text/html": [
       "<div>\n",
       "<style scoped>\n",
       "    .dataframe tbody tr th:only-of-type {\n",
       "        vertical-align: middle;\n",
       "    }\n",
       "\n",
       "    .dataframe tbody tr th {\n",
       "        vertical-align: top;\n",
       "    }\n",
       "\n",
       "    .dataframe thead th {\n",
       "        text-align: right;\n",
       "    }\n",
       "</style>\n",
       "<table border=\"1\" class=\"dataframe\">\n",
       "  <thead>\n",
       "    <tr style=\"text-align: right;\">\n",
       "      <th></th>\n",
       "      <th>Purchase ID</th>\n",
       "      <th>SN</th>\n",
       "      <th>Age</th>\n",
       "      <th>Gender</th>\n",
       "      <th>Item ID</th>\n",
       "      <th>Item Name</th>\n",
       "      <th>Price</th>\n",
       "    </tr>\n",
       "  </thead>\n",
       "  <tbody>\n",
       "    <tr>\n",
       "      <th>0</th>\n",
       "      <td>0</td>\n",
       "      <td>Lisim78</td>\n",
       "      <td>20</td>\n",
       "      <td>Male</td>\n",
       "      <td>108</td>\n",
       "      <td>Extraction, Quickblade Of Trembling Hands</td>\n",
       "      <td>3.53</td>\n",
       "    </tr>\n",
       "    <tr>\n",
       "      <th>1</th>\n",
       "      <td>1</td>\n",
       "      <td>Lisovynya38</td>\n",
       "      <td>40</td>\n",
       "      <td>Male</td>\n",
       "      <td>143</td>\n",
       "      <td>Frenzied Scimitar</td>\n",
       "      <td>1.56</td>\n",
       "    </tr>\n",
       "    <tr>\n",
       "      <th>2</th>\n",
       "      <td>2</td>\n",
       "      <td>Ithergue48</td>\n",
       "      <td>24</td>\n",
       "      <td>Male</td>\n",
       "      <td>92</td>\n",
       "      <td>Final Critic</td>\n",
       "      <td>4.88</td>\n",
       "    </tr>\n",
       "    <tr>\n",
       "      <th>3</th>\n",
       "      <td>3</td>\n",
       "      <td>Chamassasya86</td>\n",
       "      <td>24</td>\n",
       "      <td>Male</td>\n",
       "      <td>100</td>\n",
       "      <td>Blindscythe</td>\n",
       "      <td>3.27</td>\n",
       "    </tr>\n",
       "    <tr>\n",
       "      <th>4</th>\n",
       "      <td>4</td>\n",
       "      <td>Iskosia90</td>\n",
       "      <td>23</td>\n",
       "      <td>Male</td>\n",
       "      <td>131</td>\n",
       "      <td>Fury</td>\n",
       "      <td>1.44</td>\n",
       "    </tr>\n",
       "  </tbody>\n",
       "</table>\n",
       "</div>"
      ],
      "text/plain": [
       "   Purchase ID             SN  Age Gender  Item ID  \\\n",
       "0            0        Lisim78   20   Male      108   \n",
       "1            1    Lisovynya38   40   Male      143   \n",
       "2            2     Ithergue48   24   Male       92   \n",
       "3            3  Chamassasya86   24   Male      100   \n",
       "4            4      Iskosia90   23   Male      131   \n",
       "\n",
       "                                   Item Name  Price  \n",
       "0  Extraction, Quickblade Of Trembling Hands   3.53  \n",
       "1                          Frenzied Scimitar   1.56  \n",
       "2                               Final Critic   4.88  \n",
       "3                                Blindscythe   3.27  \n",
       "4                                       Fury   1.44  "
      ]
     },
     "execution_count": 1,
     "metadata": {},
     "output_type": "execute_result"
    }
   ],
   "source": [
    "# Dependencies and Setup\n",
    "import pandas as pd\n",
    "\n",
    "# File to Load (Remember to Change These)\n",
    "file_to_load = \"Resources/purchase_data.csv\"\n",
    "\n",
    "# Read Purchasing File and store into Pandas data frame\n",
    "purchase_data = pd.read_csv(file_to_load)\n",
    "purchase_data.head()"
   ]
  },
  {
   "cell_type": "code",
   "execution_count": 2,
   "metadata": {},
   "outputs": [
    {
     "name": "stdout",
     "output_type": "stream",
     "text": [
      "Player count is 576\n",
      "576\n"
     ]
    }
   ],
   "source": [
    "total_players =purchase_data[\"SN\"].nunique()\n",
    "# purchase_data[\"SN\"].nunique()\n",
    "print(f\"Player count is {total_players}\")\n",
    "print(total_players)"
   ]
  },
  {
   "cell_type": "code",
   "execution_count": 3,
   "metadata": {},
   "outputs": [
    {
     "name": "stdout",
     "output_type": "stream",
     "text": [
      "179\n",
      "3.050987179487176\n",
      "780\n",
      "2379.77\n"
     ]
    }
   ],
   "source": [
    "unique_items = len(purchase_data[\"Item ID\"].unique())\n",
    "avg_price = purchase_data[\"Price\"].mean()\n",
    "num_purchases = purchase_data[\"SN\"].count()\n",
    "tot_rev = purchase_data[\"Price\"].sum()\n",
    "print(unique_items)\n",
    "print(avg_price)\n",
    "print(num_purchases)\n",
    "print(tot_rev)"
   ]
  },
  {
   "cell_type": "code",
   "execution_count": 4,
   "metadata": {},
   "outputs": [
    {
     "data": {
      "text/html": [
       "<div>\n",
       "<style scoped>\n",
       "    .dataframe tbody tr th:only-of-type {\n",
       "        vertical-align: middle;\n",
       "    }\n",
       "\n",
       "    .dataframe tbody tr th {\n",
       "        vertical-align: top;\n",
       "    }\n",
       "\n",
       "    .dataframe thead th {\n",
       "        text-align: right;\n",
       "    }\n",
       "</style>\n",
       "<table border=\"1\" class=\"dataframe\">\n",
       "  <thead>\n",
       "    <tr style=\"text-align: right;\">\n",
       "      <th></th>\n",
       "      <th>Number of Unique Items</th>\n",
       "      <th>Average Price</th>\n",
       "      <th>Number of Purchases</th>\n",
       "      <th>Total Revenue</th>\n",
       "    </tr>\n",
       "  </thead>\n",
       "  <tbody>\n",
       "    <tr>\n",
       "      <th>0</th>\n",
       "      <td>179</td>\n",
       "      <td>3.050987</td>\n",
       "      <td>780</td>\n",
       "      <td>2379.77</td>\n",
       "    </tr>\n",
       "  </tbody>\n",
       "</table>\n",
       "</div>"
      ],
      "text/plain": [
       "   Number of Unique Items  Average Price  Number of Purchases  Total Revenue\n",
       "0                     179       3.050987                  780        2379.77"
      ]
     },
     "execution_count": 4,
     "metadata": {},
     "output_type": "execute_result"
    }
   ],
   "source": [
    "# Place all calculated data in a summary DF\n",
    "summary_df = pd.DataFrame({\"Number of Unique Items\": [unique_items], \n",
    "                           \"Average Price\": avg_price, \n",
    "                           \"Number of Purchases\": num_purchases,\"Total Revenue\": tot_rev})\n",
    "summary_df"
   ]
  },
  {
   "cell_type": "code",
   "execution_count": 5,
   "metadata": {
    "scrolled": true
   },
   "outputs": [
    {
     "data": {
      "text/html": [
       "<div>\n",
       "<style scoped>\n",
       "    .dataframe tbody tr th:only-of-type {\n",
       "        vertical-align: middle;\n",
       "    }\n",
       "\n",
       "    .dataframe tbody tr th {\n",
       "        vertical-align: top;\n",
       "    }\n",
       "\n",
       "    .dataframe thead th {\n",
       "        text-align: right;\n",
       "    }\n",
       "</style>\n",
       "<table border=\"1\" class=\"dataframe\">\n",
       "  <thead>\n",
       "    <tr style=\"text-align: right;\">\n",
       "      <th></th>\n",
       "      <th>SN</th>\n",
       "      <th>Percentage of Players</th>\n",
       "    </tr>\n",
       "    <tr>\n",
       "      <th>Gender</th>\n",
       "      <th></th>\n",
       "      <th></th>\n",
       "    </tr>\n",
       "  </thead>\n",
       "  <tbody>\n",
       "    <tr>\n",
       "      <th>Female</th>\n",
       "      <td>81</td>\n",
       "      <td>0.140625</td>\n",
       "    </tr>\n",
       "    <tr>\n",
       "      <th>Male</th>\n",
       "      <td>484</td>\n",
       "      <td>0.840278</td>\n",
       "    </tr>\n",
       "    <tr>\n",
       "      <th>Other / Non-Disclosed</th>\n",
       "      <td>11</td>\n",
       "      <td>0.019097</td>\n",
       "    </tr>\n",
       "  </tbody>\n",
       "</table>\n",
       "</div>"
      ],
      "text/plain": [
       "                        SN  Percentage of Players\n",
       "Gender                                           \n",
       "Female                  81               0.140625\n",
       "Male                   484               0.840278\n",
       "Other / Non-Disclosed   11               0.019097"
      ]
     },
     "execution_count": 5,
     "metadata": {},
     "output_type": "execute_result"
    }
   ],
   "source": [
    "# calculate percentage and count of gender\n",
    "gender = purchase_data.groupby(\"Gender\")[\"SN\"].nunique()\n",
    "gender = gender.to_frame()\n",
    "gender_df = gender.rename({\"SN\":\"Total Count\"})\n",
    "percent_gender = gender[\"SN\"]/total_players\n",
    "gender[\"Percentage of Players\"] = percent_gender\n",
    "\n",
    "female_total = gender.iloc[0,0]\n",
    "male_total = gender.iloc[1,0]\n",
    "other_total = gender.iloc[2,0]\n",
    "\n",
    "# print(gender.iloc[1,1])\n",
    "# print(female)\n",
    "# print(male)\n",
    "gender\n"
   ]
  },
  {
   "cell_type": "code",
   "execution_count": 6,
   "metadata": {},
   "outputs": [
    {
     "name": "stdout",
     "output_type": "stream",
     "text": [
      "81\n"
     ]
    }
   ],
   "source": [
    "print(female_total)"
   ]
  },
  {
   "cell_type": "code",
   "execution_count": 7,
   "metadata": {},
   "outputs": [
    {
     "data": {
      "text/html": [
       "<div>\n",
       "<style scoped>\n",
       "    .dataframe tbody tr th:only-of-type {\n",
       "        vertical-align: middle;\n",
       "    }\n",
       "\n",
       "    .dataframe tbody tr th {\n",
       "        vertical-align: top;\n",
       "    }\n",
       "\n",
       "    .dataframe thead th {\n",
       "        text-align: right;\n",
       "    }\n",
       "</style>\n",
       "<table border=\"1\" class=\"dataframe\">\n",
       "  <thead>\n",
       "    <tr style=\"text-align: right;\">\n",
       "      <th></th>\n",
       "      <th>SN_x</th>\n",
       "      <th>Price_x</th>\n",
       "      <th>Price_y</th>\n",
       "      <th>SN_y</th>\n",
       "      <th>Percentage of Players</th>\n",
       "    </tr>\n",
       "    <tr>\n",
       "      <th>Gender</th>\n",
       "      <th></th>\n",
       "      <th></th>\n",
       "      <th></th>\n",
       "      <th></th>\n",
       "      <th></th>\n",
       "    </tr>\n",
       "  </thead>\n",
       "  <tbody>\n",
       "    <tr>\n",
       "      <th>Female</th>\n",
       "      <td>113</td>\n",
       "      <td>3.203009</td>\n",
       "      <td>361.94</td>\n",
       "      <td>81</td>\n",
       "      <td>0.140625</td>\n",
       "    </tr>\n",
       "    <tr>\n",
       "      <th>Male</th>\n",
       "      <td>652</td>\n",
       "      <td>3.017853</td>\n",
       "      <td>1967.64</td>\n",
       "      <td>484</td>\n",
       "      <td>0.840278</td>\n",
       "    </tr>\n",
       "    <tr>\n",
       "      <th>Other / Non-Disclosed</th>\n",
       "      <td>15</td>\n",
       "      <td>3.346000</td>\n",
       "      <td>50.19</td>\n",
       "      <td>11</td>\n",
       "      <td>0.019097</td>\n",
       "    </tr>\n",
       "  </tbody>\n",
       "</table>\n",
       "</div>"
      ],
      "text/plain": [
       "                       SN_x   Price_x  Price_y  SN_y  Percentage of Players\n",
       "Gender                                                                     \n",
       "Female                  113  3.203009   361.94    81               0.140625\n",
       "Male                    652  3.017853  1967.64   484               0.840278\n",
       "Other / Non-Disclosed    15  3.346000    50.19    11               0.019097"
      ]
     },
     "execution_count": 7,
     "metadata": {},
     "output_type": "execute_result"
    }
   ],
   "source": [
    "purchase_count_df = purchase_data.groupby(\"Gender\")[\"SN\"].count()\n",
    "avg_price_df = purchase_data.groupby(\"Gender\")[\"Price\"].mean()\n",
    "total_value_df = purchase_data.groupby(\"Gender\")[\"Price\"].sum()\n",
    "\n",
    "# purchase_count_df\n",
    "# avg_price_df\n",
    "merge1_df = pd.merge(purchase_count_df,avg_price_df, on=\"Gender\")\n",
    "merge2_df = pd.merge(merge1_df,total_value_df, on=\"Gender\")\n",
    "merge3_df = pd.merge(merge2_df, gender, on=\"Gender\")\n",
    "merge3_df"
   ]
  },
  {
   "cell_type": "code",
   "execution_count": 19,
   "metadata": {},
   "outputs": [
    {
     "data": {
      "text/html": [
       "<div>\n",
       "<style scoped>\n",
       "    .dataframe tbody tr th:only-of-type {\n",
       "        vertical-align: middle;\n",
       "    }\n",
       "\n",
       "    .dataframe tbody tr th {\n",
       "        vertical-align: top;\n",
       "    }\n",
       "\n",
       "    .dataframe thead th {\n",
       "        text-align: right;\n",
       "    }\n",
       "</style>\n",
       "<table border=\"1\" class=\"dataframe\">\n",
       "  <thead>\n",
       "    <tr style=\"text-align: right;\">\n",
       "      <th></th>\n",
       "      <th>SN_x</th>\n",
       "      <th>Price_x</th>\n",
       "      <th>Price_y</th>\n",
       "      <th>SN_y</th>\n",
       "      <th>Percentage of Players</th>\n",
       "      <th>Avg_pur_per_person</th>\n",
       "    </tr>\n",
       "    <tr>\n",
       "      <th>Gender</th>\n",
       "      <th></th>\n",
       "      <th></th>\n",
       "      <th></th>\n",
       "      <th></th>\n",
       "      <th></th>\n",
       "      <th></th>\n",
       "    </tr>\n",
       "  </thead>\n",
       "  <tbody>\n",
       "    <tr>\n",
       "      <th>Female</th>\n",
       "      <td>113</td>\n",
       "      <td>3.203009</td>\n",
       "      <td>361.94</td>\n",
       "      <td>81</td>\n",
       "      <td>0.140625</td>\n",
       "      <td>4.468395</td>\n",
       "    </tr>\n",
       "    <tr>\n",
       "      <th>Male</th>\n",
       "      <td>652</td>\n",
       "      <td>3.017853</td>\n",
       "      <td>1967.64</td>\n",
       "      <td>484</td>\n",
       "      <td>0.840278</td>\n",
       "      <td>4.065372</td>\n",
       "    </tr>\n",
       "    <tr>\n",
       "      <th>Other / Non-Disclosed</th>\n",
       "      <td>15</td>\n",
       "      <td>3.346000</td>\n",
       "      <td>50.19</td>\n",
       "      <td>11</td>\n",
       "      <td>0.019097</td>\n",
       "      <td>4.562727</td>\n",
       "    </tr>\n",
       "  </tbody>\n",
       "</table>\n",
       "</div>"
      ],
      "text/plain": [
       "                       SN_x   Price_x  Price_y  SN_y  Percentage of Players  \\\n",
       "Gender                                                                        \n",
       "Female                  113  3.203009   361.94    81               0.140625   \n",
       "Male                    652  3.017853  1967.64   484               0.840278   \n",
       "Other / Non-Disclosed    15  3.346000    50.19    11               0.019097   \n",
       "\n",
       "                       Avg_pur_per_person  \n",
       "Gender                                     \n",
       "Female                           4.468395  \n",
       "Male                             4.065372  \n",
       "Other / Non-Disclosed            4.562727  "
      ]
     },
     "execution_count": 19,
     "metadata": {},
     "output_type": "execute_result"
    }
   ],
   "source": [
    "avg_purchase = (merge3_df[\"Price_y\"] / merge3_df[\"SN_y\"])\n",
    "merge3_df[\"Avg_pur_per_person\"] = avg_purchase\n",
    "merge3_df"
   ]
  },
  {
   "cell_type": "code",
   "execution_count": 28,
   "metadata": {
    "scrolled": true
   },
   "outputs": [
    {
     "data": {
      "text/html": [
       "<style  type=\"text/css\" >\n",
       "</style><table id=\"T_3742d462_5d07_11eb_b32e_3035ada48aa4\" ><thead>    <tr>        <th class=\"blank level0\" ></th>        <th class=\"col_heading level0 col0\" >Purchase Count</th>        <th class=\"col_heading level0 col1\" >Average Purchase Price</th>        <th class=\"col_heading level0 col2\" >Total Purchase Price</th>        <th class=\"col_heading level0 col3\" >Total Gender Count</th>        <th class=\"col_heading level0 col4\" >Percentage of Players</th>        <th class=\"col_heading level0 col5\" >Avg Total Purchase per Person</th>    </tr>    <tr>        <th class=\"index_name level0\" >Gender</th>        <th class=\"blank\" ></th>        <th class=\"blank\" ></th>        <th class=\"blank\" ></th>        <th class=\"blank\" ></th>        <th class=\"blank\" ></th>        <th class=\"blank\" ></th>    </tr></thead><tbody>\n",
       "                <tr>\n",
       "                        <th id=\"T_3742d462_5d07_11eb_b32e_3035ada48aa4level0_row0\" class=\"row_heading level0 row0\" >Female</th>\n",
       "                        <td id=\"T_3742d462_5d07_11eb_b32e_3035ada48aa4row0_col0\" class=\"data row0 col0\" >113</td>\n",
       "                        <td id=\"T_3742d462_5d07_11eb_b32e_3035ada48aa4row0_col1\" class=\"data row0 col1\" >$3.20</td>\n",
       "                        <td id=\"T_3742d462_5d07_11eb_b32e_3035ada48aa4row0_col2\" class=\"data row0 col2\" >$361.94</td>\n",
       "                        <td id=\"T_3742d462_5d07_11eb_b32e_3035ada48aa4row0_col3\" class=\"data row0 col3\" >81</td>\n",
       "                        <td id=\"T_3742d462_5d07_11eb_b32e_3035ada48aa4row0_col4\" class=\"data row0 col4\" >14.06%</td>\n",
       "                        <td id=\"T_3742d462_5d07_11eb_b32e_3035ada48aa4row0_col5\" class=\"data row0 col5\" >$4.47</td>\n",
       "            </tr>\n",
       "            <tr>\n",
       "                        <th id=\"T_3742d462_5d07_11eb_b32e_3035ada48aa4level0_row1\" class=\"row_heading level0 row1\" >Male</th>\n",
       "                        <td id=\"T_3742d462_5d07_11eb_b32e_3035ada48aa4row1_col0\" class=\"data row1 col0\" >652</td>\n",
       "                        <td id=\"T_3742d462_5d07_11eb_b32e_3035ada48aa4row1_col1\" class=\"data row1 col1\" >$3.02</td>\n",
       "                        <td id=\"T_3742d462_5d07_11eb_b32e_3035ada48aa4row1_col2\" class=\"data row1 col2\" >$1,967.64</td>\n",
       "                        <td id=\"T_3742d462_5d07_11eb_b32e_3035ada48aa4row1_col3\" class=\"data row1 col3\" >484</td>\n",
       "                        <td id=\"T_3742d462_5d07_11eb_b32e_3035ada48aa4row1_col4\" class=\"data row1 col4\" >84.03%</td>\n",
       "                        <td id=\"T_3742d462_5d07_11eb_b32e_3035ada48aa4row1_col5\" class=\"data row1 col5\" >$4.07</td>\n",
       "            </tr>\n",
       "            <tr>\n",
       "                        <th id=\"T_3742d462_5d07_11eb_b32e_3035ada48aa4level0_row2\" class=\"row_heading level0 row2\" >Other / Non-Disclosed</th>\n",
       "                        <td id=\"T_3742d462_5d07_11eb_b32e_3035ada48aa4row2_col0\" class=\"data row2 col0\" >15</td>\n",
       "                        <td id=\"T_3742d462_5d07_11eb_b32e_3035ada48aa4row2_col1\" class=\"data row2 col1\" >$3.35</td>\n",
       "                        <td id=\"T_3742d462_5d07_11eb_b32e_3035ada48aa4row2_col2\" class=\"data row2 col2\" >$50.19</td>\n",
       "                        <td id=\"T_3742d462_5d07_11eb_b32e_3035ada48aa4row2_col3\" class=\"data row2 col3\" >11</td>\n",
       "                        <td id=\"T_3742d462_5d07_11eb_b32e_3035ada48aa4row2_col4\" class=\"data row2 col4\" >1.91%</td>\n",
       "                        <td id=\"T_3742d462_5d07_11eb_b32e_3035ada48aa4row2_col5\" class=\"data row2 col5\" >$4.56</td>\n",
       "            </tr>\n",
       "    </tbody></table>"
      ],
      "text/plain": [
       "<pandas.io.formats.style.Styler at 0x7fbeeb928dd8>"
      ]
     },
     "execution_count": 28,
     "metadata": {},
     "output_type": "execute_result"
    }
   ],
   "source": [
    "final_merge = merge3_df.rename(columns={\"SN_x\": \"Purchase Count\",\"Price_x\": \"Average Purchase Price\",\"Price_y\": \"Total Purchase Price\",\"SN_y\": \"Total Gender Count\",\"Avg_pur_per_person\": \"Avg Total Purchase per Person\"})\n",
    "final_merge = final_merge.drop(final_merge.columns[[3,4]], axis=)\n",
    "format_dict = {\"Average Purchase Price\": \"${0:,.2f}\", \"Total Purchase Price\": \"${0:,.2f}\",\"Avg Total Purchase per Person\": \"${0:,.2f}\",\"Percentage of Players\": \"{:.2%}\"}\n",
    "final_merge.style.format(format_dict)"
   ]
  },
  {
   "cell_type": "code",
   "execution_count": 10,
   "metadata": {},
   "outputs": [
    {
     "name": "stdout",
     "output_type": "stream",
     "text": [
      "Male                     652\n",
      "Female                   113\n",
      "Other / Non-Disclosed     15\n",
      "Name: Gender, dtype: int64\n"
     ]
    }
   ],
   "source": [
    "# calculate percentage and count of gender\n",
    "# print(purchase_data[\"Gender\"].value_counts())\n",
    "# purchase_data[\"Gender\"].value_counts()\n",
    "unique_players = purchase_data[\"Gender\"].value_counts()\n",
    "print(unique_players)\n"
   ]
  },
  {
   "cell_type": "code",
   "execution_count": 11,
   "metadata": {},
   "outputs": [
    {
     "data": {
      "text/plain": [
       "Gender\n",
       "Female                    361.94\n",
       "Male                     1967.64\n",
       "Other / Non-Disclosed      50.19\n",
       "Name: Price, dtype: float64"
      ]
     },
     "execution_count": 11,
     "metadata": {},
     "output_type": "execute_result"
    }
   ],
   "source": [
    "total_value_df = purchase_data.groupby(\"Gender\")[\"Price\"].sum()\n",
    "total_value_df"
   ]
  },
  {
   "cell_type": "code",
   "execution_count": 12,
   "metadata": {},
   "outputs": [],
   "source": [
    "total_value_df = purchase_data.groupby(\"Gender\")[\"Price\"].sum()"
   ]
  },
  {
   "cell_type": "code",
   "execution_count": null,
   "metadata": {},
   "outputs": [],
   "source": []
  }
 ],
 "metadata": {
  "kernelspec": {
   "display_name": "Python 3",
   "language": "python",
   "name": "python3"
  },
  "language_info": {
   "codemirror_mode": {
    "name": "ipython",
    "version": 3
   },
   "file_extension": ".py",
   "mimetype": "text/x-python",
   "name": "python",
   "nbconvert_exporter": "python",
   "pygments_lexer": "ipython3",
   "version": "3.6.10"
  }
 },
 "nbformat": 4,
 "nbformat_minor": 4
}
